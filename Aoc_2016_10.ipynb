{
 "cells": [
  {
   "cell_type": "markdown",
   "id": "0f863bc7",
   "metadata": {},
   "source": [
    "# Day 2016-10: _template-title_"
   ]
  },
  {
   "cell_type": "code",
   "execution_count": null,
   "id": "e7ba6dbf",
   "metadata": {},
   "outputs": [],
   "source": [
    "year = 2016\n",
    "day  = 10"
   ]
  },
  {
   "cell_type": "code",
   "execution_count": null,
   "id": "93f010b0",
   "metadata": {},
   "outputs": [],
   "source": [
    "from local_settings import load_input\n",
    "content = load_input(year, day)\n",
    "print(f\"[{content[:100]}...]\")"
   ]
  },
  {
   "cell_type": "markdown",
   "id": "ee4d99ce",
   "metadata": {},
   "source": [
    "# Part 1"
   ]
  },
  {
   "cell_type": "code",
   "execution_count": null,
   "id": "6a7fb3c6",
   "metadata": {},
   "outputs": [],
   "source": [
    "# definitions for first part of problem solution\n",
    "def parseInput(s):\n",
    "    bots = dict()\n",
    "    for line in s.splitlines():\n",
    "        tokens = line.split()\n",
    "        if tokens[0] == \"value\":\n",
    "            bot = int(tokens[-1])\n",
    "            val = int(tokens[1])\n",
    "            if bot not in bots:\n",
    "                bots[bot] = {\"values\": [], \"low\": None, \"high\": None}\n",
    "            bots[bot][\"values\"].append(val)\n",
    "        else:\n",
    "            srcBot = int(tokens[1])\n",
    "            ldestBot = int(tokens[6])\n",
    "            hdestBot = int(tokens[-1])\n",
    "            if srcBot not in bots:\n",
    "                bots[srcBot] = {\"values\": [], \"low\": None, \"high\": None}\n",
    "            bots[srcBot][\"low\"] = (tokens[5], ldestBot)\n",
    "            bots[srcBot][\"high\"] = (tokens[-2], hdestBot)\n",
    "    return bots\n",
    "\n",
    "from collections import deque\n",
    "\n",
    "def findComparison(bots, val1, val2):\n",
    "    l = sorted([val1, val2])\n",
    "    q = deque()\n",
    "    output = dict()\n",
    "    for bot, d in bots.items():\n",
    "        if len(d[\"values\"]) == 2:\n",
    "            q.append(bot)\n",
    "    while q:\n",
    "        bot = q.popleft()\n",
    "        vals = sorted(bots[bot][\"values\"])\n",
    "        if vals == l:\n",
    "            return bot\n",
    "        ldest = bots[bot][\"low\"]\n",
    "        hdest = bots[bot][\"high\"]\n",
    "        if ldest[0] == \"bot\":\n",
    "            bots[ldest[1]][\"values\"].append(vals[0])\n",
    "            if len(bots[ldest[1]][\"values\"]) == 2:\n",
    "                q.append(ldest[1])\n",
    "        else:\n",
    "            output[ldest[1]] = vals[0]\n",
    "        if hdest[0] == \"bot\":\n",
    "            bots[hdest[1]][\"values\"].append(vals[1])\n",
    "            if len(bots[hdest[1]][\"values\"]) == 2:\n",
    "                q.append(hdest[1])\n",
    "        else:\n",
    "            output[hdest[1]] = vals[1]\n",
    "        bots[bot][\"values\"] = []\n",
    "\n"
   ]
  },
  {
   "cell_type": "markdown",
   "id": "e749ac16",
   "metadata": {},
   "source": [
    "## Examples:\n",
    "```\n",
    "value 5 goes to bot 2\n",
    "bot 2 gives low to bot 1 and high to bot 0\n",
    "value 3 goes to bot 1\n",
    "bot 1 gives low to output 1 and high to bot 0\n",
    "bot 0 gives low to output 2 and high to output 0\n",
    "value 2 goes to bot 2\n",
    "```"
   ]
  },
  {
   "cell_type": "code",
   "execution_count": null,
   "id": "296dd223",
   "metadata": {},
   "outputs": [],
   "source": [
    "# testing the examples\n",
    "ex = \"\"\"value 5 goes to bot 2\n",
    "bot 2 gives low to bot 1 and high to bot 0\n",
    "value 3 goes to bot 1\n",
    "bot 1 gives low to output 1 and high to bot 0\n",
    "bot 0 gives low to output 2 and high to output 0\n",
    "value 2 goes to bot 2\"\"\"\n",
    "exbots = parseInput(ex)\n",
    "print(findComparison(exbots, 5, 2))"
   ]
  },
  {
   "cell_type": "code",
   "execution_count": null,
   "id": "5d07d6f0",
   "metadata": {},
   "outputs": [],
   "source": [
    "# finding the solution\n",
    "bots = parseInput(content)\n",
    "findComparison(bots, 61, 17)"
   ]
  },
  {
   "cell_type": "markdown",
   "id": "63f34142",
   "metadata": {},
   "source": [
    "# Part 2"
   ]
  },
  {
   "cell_type": "code",
   "execution_count": null,
   "id": "3dd19ccf",
   "metadata": {},
   "outputs": [],
   "source": [
    "# definitions for second part of a problem solution\n",
    "def moveStuff(bots):\n",
    "    q = deque()\n",
    "    output = dict()\n",
    "    for bot, d in bots.items():\n",
    "        if len(d[\"values\"]) == 2:\n",
    "            q.append(bot)\n",
    "    while q:\n",
    "        bot = q.popleft()\n",
    "        vals = sorted(bots[bot][\"values\"])\n",
    "        ldest = bots[bot][\"low\"]\n",
    "        hdest = bots[bot][\"high\"]\n",
    "        if ldest[0] == \"bot\":\n",
    "            bots[ldest[1]][\"values\"].append(vals[0])\n",
    "            if len(bots[ldest[1]][\"values\"]) == 2:\n",
    "                q.append(ldest[1])\n",
    "        else:\n",
    "            output[ldest[1]] = vals[0]\n",
    "        if hdest[0] == \"bot\":\n",
    "            bots[hdest[1]][\"values\"].append(vals[1])\n",
    "            if len(bots[hdest[1]][\"values\"]) == 2:\n",
    "                q.append(hdest[1])\n",
    "        else:\n",
    "            output[hdest[1]] = vals[1]\n",
    "        bots[bot][\"values\"] = []\n",
    "    return output"
   ]
  },
  {
   "cell_type": "markdown",
   "id": "380d3358",
   "metadata": {},
   "source": [
    "## Examples:\n",
    "```\n",
    "```"
   ]
  },
  {
   "cell_type": "code",
   "execution_count": null,
   "id": "f9dcf531",
   "metadata": {},
   "outputs": [],
   "source": [
    "# testing the examples"
   ]
  },
  {
   "cell_type": "code",
   "execution_count": null,
   "id": "21d311f1",
   "metadata": {},
   "outputs": [],
   "source": [
    "# finding the solution\n",
    "bots = parseInput(content)\n",
    "outp = moveStuff(bots)\n",
    "print(outp[0] * outp[1] * outp[2])"
   ]
  }
 ],
 "metadata": {
  "kernelspec": {
   "display_name": "Python 3.9.12 ('base')",
   "language": "python",
   "name": "python3"
  },
  "language_info": {
   "codemirror_mode": {
    "name": "ipython",
    "version": 3
   },
   "file_extension": ".py",
   "mimetype": "text/x-python",
   "name": "python",
   "nbconvert_exporter": "python",
   "pygments_lexer": "ipython3",
   "version": "3.9.12"
  },
  "vscode": {
   "interpreter": {
    "hash": "26b41e701b9231918f8329cfe003d300e3582e92b2efa9bd361dfdb186f62974"
   }
  }
 },
 "nbformat": 4,
 "nbformat_minor": 5
}
