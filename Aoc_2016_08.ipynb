{
 "cells": [
  {
   "cell_type": "markdown",
   "id": "0f863bc7",
   "metadata": {},
   "source": [
    "# Day 2016-08: _template-title_"
   ]
  },
  {
   "cell_type": "code",
   "execution_count": null,
   "id": "e7ba6dbf",
   "metadata": {},
   "outputs": [],
   "source": [
    "year = 2016\n",
    "day  = 8"
   ]
  },
  {
   "cell_type": "code",
   "execution_count": null,
   "id": "93f010b0",
   "metadata": {},
   "outputs": [],
   "source": [
    "from local_settings import load_input\n",
    "content = load_input(year, day)\n",
    "print(f\"[{content[:100]}...]\")"
   ]
  },
  {
   "cell_type": "markdown",
   "id": "ee4d99ce",
   "metadata": {},
   "source": [
    "# Part 1"
   ]
  },
  {
   "cell_type": "code",
   "execution_count": null,
   "id": "6a7fb3c6",
   "metadata": {},
   "outputs": [],
   "source": [
    "# definitions for first part of problem solution\n",
    "def parseInput(s):\n",
    "    for line in s.splitlines():\n",
    "        tokens = line.split()\n",
    "        cmd = tokens[0]\n",
    "        if cmd == \"rect\":\n",
    "            w, h = map(int, tokens[1].split(\"x\"))\n",
    "            yield cmd, w, h\n",
    "        elif cmd == \"rotate\":\n",
    "            what = tokens[1]\n",
    "            _, rc = tokens[2].split(\"=\")\n",
    "            rc = int(rc)\n",
    "            steps = int(tokens[4])\n",
    "            yield what, rc, steps\n",
    "\n",
    "def rect(display, ww, hh, w, h):\n",
    "    for x in range(min(w, ww - 1)):\n",
    "        for y in range(min(h, hh - 1)):\n",
    "            display.add((x, y))\n",
    "\n",
    "def rotRow(display, w, h, row, steps):\n",
    "    newRow = set()\n",
    "    for i in range(w):\n",
    "        if (i, row) in display:\n",
    "            newRow.add(((i + steps) % w, row))\n",
    "            display.remove((i, row))\n",
    "    display |= newRow\n",
    "\n",
    "def rotCol(display, w, h, col, steps):\n",
    "    newCol = set()\n",
    "    for i in range(h):\n",
    "        if (col, i) in display:\n",
    "            newCol.add((col, (i + steps) % h))\n",
    "            display.remove((col, i))\n",
    "    display |= newCol\n",
    "\n",
    "def printDisplay(d, w, h):\n",
    "    for y in range(h):\n",
    "        for x in range(w):\n",
    "            if (x, y) in d:\n",
    "                print(\"#\", end=\"\")\n",
    "            else:\n",
    "                print(\".\", end=\"\")\n",
    "        print()\n",
    "\n",
    "instructions = {\n",
    "    \"rect\": rect,\n",
    "    \"row\": rotRow,\n",
    "    \"column\": rotCol,\n",
    "}\n"
   ]
  },
  {
   "cell_type": "markdown",
   "id": "e749ac16",
   "metadata": {},
   "source": [
    "## Examples:\n",
    "```\n",
    "rect 3x2 creates a small rectangle in the top-left corner:\n",
    "\n",
    "###....\n",
    "###....\n",
    ".......\n",
    "rotate column x=1 by 1 rotates the second column down by one pixel:\n",
    "\n",
    "#.#....\n",
    "###....\n",
    ".#.....\n",
    "rotate row y=0 by 4 rotates the top row right by four pixels:\n",
    "\n",
    "....#.#\n",
    "###....\n",
    ".#.....\n",
    "rotate column x=1 by 1 again rotates the second column down by one pixel, causing the bottom pixel to wrap back to the top:\n",
    "\n",
    ".#..#.#\n",
    "#.#....\n",
    ".#.....\n",
    "```"
   ]
  },
  {
   "cell_type": "code",
   "execution_count": null,
   "id": "296dd223",
   "metadata": {},
   "outputs": [],
   "source": [
    "# testing the examples\n",
    "d = set()\n",
    "rect(d, 7, 3, 3, 2)\n",
    "printDisplay(d, 7, 3)\n",
    "print()\n",
    "rotCol(d, 7, 3, 1, 1)\n",
    "printDisplay(d, 7, 3)\n",
    "print()\n",
    "rotRow(d, 7, 3, 0, 4)\n",
    "printDisplay(d, 7, 3)\n",
    "print()\n",
    "rotCol(d, 7, 3, 1, 1)\n",
    "printDisplay(d, 7, 3)\n",
    "print()"
   ]
  },
  {
   "cell_type": "code",
   "execution_count": null,
   "id": "5d07d6f0",
   "metadata": {},
   "outputs": [],
   "source": [
    "# finding the solution\n",
    "d = set()\n",
    "for cmd, arg1, arg2 in parseInput(content):\n",
    "    instructions[cmd](d, 50, 6, arg1, arg2)\n",
    "print(len(d))"
   ]
  },
  {
   "cell_type": "markdown",
   "id": "63f34142",
   "metadata": {},
   "source": [
    "# Part 2"
   ]
  },
  {
   "cell_type": "code",
   "execution_count": null,
   "id": "3dd19ccf",
   "metadata": {},
   "outputs": [],
   "source": [
    "# definitions for second part of a problem solution"
   ]
  },
  {
   "cell_type": "markdown",
   "id": "380d3358",
   "metadata": {},
   "source": [
    "## Examples:\n",
    "```\n",
    "```"
   ]
  },
  {
   "cell_type": "code",
   "execution_count": null,
   "id": "f9dcf531",
   "metadata": {},
   "outputs": [],
   "source": [
    "# testing the examples"
   ]
  },
  {
   "cell_type": "code",
   "execution_count": null,
   "id": "21d311f1",
   "metadata": {},
   "outputs": [],
   "source": [
    "# finding the solution\n",
    "printDisplay(d, 50, 6)"
   ]
  }
 ],
 "metadata": {
  "kernelspec": {
   "display_name": "Python 3.9.12 ('base')",
   "language": "python",
   "name": "python3"
  },
  "language_info": {
   "codemirror_mode": {
    "name": "ipython",
    "version": 3
   },
   "file_extension": ".py",
   "mimetype": "text/x-python",
   "name": "python",
   "nbconvert_exporter": "python",
   "pygments_lexer": "ipython3",
   "version": "3.9.12"
  },
  "vscode": {
   "interpreter": {
    "hash": "26b41e701b9231918f8329cfe003d300e3582e92b2efa9bd361dfdb186f62974"
   }
  }
 },
 "nbformat": 4,
 "nbformat_minor": 5
}
