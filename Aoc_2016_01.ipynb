{
 "cells": [
  {
   "cell_type": "markdown",
   "id": "0f863bc7",
   "metadata": {},
   "source": [
    "# Day 2016-01: No Time for a Taxicab"
   ]
  },
  {
   "cell_type": "code",
   "execution_count": 1,
   "id": "e7ba6dbf",
   "metadata": {},
   "outputs": [],
   "source": [
    "year = 2016\n",
    "day  = 1"
   ]
  },
  {
   "cell_type": "code",
   "execution_count": 2,
   "id": "93f010b0",
   "metadata": {},
   "outputs": [
    {
     "name": "stdout",
     "output_type": "stream",
     "text": [
      "Reading [https://adventofcode.com/2016/day/1/input]\n",
      " With proxy: [https: http://proxyseso.scania.com:8080]\n",
      " With proxy: [http: http://proxyseso.scania.com:8080]\n",
      "641 characters read.\n",
      "[R2, L1, R2, R1, R1, L3, R3, L5, L5, L2, L1, R4, R1, R3, L5, L5, R3, L4, L4, R5, R4, R3, L1, L2, R5, ...]\n"
     ]
    }
   ],
   "source": [
    "from local_settings import load_input\n",
    "content = load_input(year, day)\n",
    "print(f\"[{content[:100]}...]\")"
   ]
  },
  {
   "cell_type": "markdown",
   "id": "ee4d99ce",
   "metadata": {},
   "source": [
    "# Part 1"
   ]
  },
  {
   "cell_type": "code",
   "execution_count": 14,
   "id": "6a7fb3c6",
   "metadata": {},
   "outputs": [],
   "source": [
    "# definitions for first part of problem solution\n",
    "def parseInstructions(s):\n",
    "    return [step.strip() for step in s.split(\", \")]\n",
    "\n",
    "directions = [(0, -1), (1, 0), (0, 1), (-1, 0)]\n",
    "def move(dir, step, x, y):\n",
    "    if step[0] == \"R\":\n",
    "        dir = (dir + 1) % 4\n",
    "    else:\n",
    "        dir = (dir + 3) % 4\n",
    "    dist = int(step[1:])\n",
    "    x, y = x + directions[dir][0] * dist, y + directions[dir][1] * dist\n",
    "    return x, y, dir\n",
    "\n",
    "def destination(steps):\n",
    "    x, y, dir = 0, 0, 0\n",
    "    for step in steps:\n",
    "        x, y, dir = move(dir, step, x, y)\n",
    "    return x, y\n",
    "\n",
    "def manhDistance(x, y):\n",
    "    return abs(x) + abs(y)"
   ]
  },
  {
   "cell_type": "markdown",
   "id": "e749ac16",
   "metadata": {},
   "source": [
    "\n",
    "## Examples:\n",
    "```\n",
    "Following R2, L3 leaves you 2 blocks East and 3 blocks North, or 5 blocks away.\n",
    "R2, R2, R2 leaves you 2 blocks due South of your starting position, which is 2 blocks away.\n",
    "R5, L5, R5, R3 leaves you 12 blocks away.\n",
    "```"
   ]
  },
  {
   "cell_type": "code",
   "execution_count": 18,
   "id": "296dd223",
   "metadata": {},
   "outputs": [
    {
     "name": "stdout",
     "output_type": "stream",
     "text": [
      "5\n",
      "2\n",
      "12\n"
     ]
    }
   ],
   "source": [
    "# testing the examples\n",
    "ex1 = \"R2, L3\"\n",
    "s1 = parseInstructions(ex1)\n",
    "x1, y1 = destination(s1)\n",
    "print(manhDistance(x1, y1))\n",
    "ex2 = \"R2, R2, R2\"\n",
    "s2 = parseInstructions(ex2)\n",
    "x2, y2 = destination(s2)\n",
    "print(manhDistance(x2, y2))\n",
    "ex3 = \"R5, L5, R5, R3\"\n",
    "s3 = parseInstructions(ex3)\n",
    "x3, y3 = destination(s3)\n",
    "print(manhDistance(x3, y3))\n"
   ]
  },
  {
   "cell_type": "code",
   "execution_count": 19,
   "id": "5d07d6f0",
   "metadata": {},
   "outputs": [
    {
     "name": "stdout",
     "output_type": "stream",
     "text": [
      "234\n"
     ]
    }
   ],
   "source": [
    "# finding the solution\n",
    "x, y = destination(parseInstructions(content))\n",
    "print(manhDistance(x, y))"
   ]
  },
  {
   "cell_type": "markdown",
   "id": "63f34142",
   "metadata": {},
   "source": [
    "# Part 2"
   ]
  },
  {
   "cell_type": "code",
   "execution_count": 29,
   "id": "3dd19ccf",
   "metadata": {},
   "outputs": [],
   "source": [
    "# definitions for second part of a problem solution\n",
    "def moveSteps(dir, step, x, y):\n",
    "    if step[0] == \"R\":\n",
    "        dir = (dir + 1) % 4\n",
    "    else:\n",
    "        dir = (dir + 3) % 4\n",
    "    dist = int(step[1:])\n",
    "    for i in range(1, dist + 1):\n",
    "        x, y = x + directions[dir][0], y + directions[dir][1]\n",
    "        yield x, y, dir\n",
    "\n",
    "def firstVisitTwice(steps):\n",
    "    x, y, dir = 0, 0, 0\n",
    "    visited = {(0, 0)}\n",
    "    for step in steps:\n",
    "        for x, y, dir in moveSteps(dir, step, x, y):\n",
    "            if (x, y) in visited:\n",
    "                return x, y\n",
    "            visited.add((x, y))"
   ]
  },
  {
   "cell_type": "markdown",
   "id": "380d3358",
   "metadata": {},
   "source": [
    "## Examples:\n",
    "```\n",
    "R8, R4, R4, R8\n",
    "```"
   ]
  },
  {
   "cell_type": "code",
   "execution_count": 30,
   "id": "f9dcf531",
   "metadata": {},
   "outputs": [
    {
     "name": "stdout",
     "output_type": "stream",
     "text": [
      "4\n"
     ]
    }
   ],
   "source": [
    "# testing the examples\n",
    "ex4 = \"R8, R4, R4, R8\"\n",
    "x4, y4 = firstVisitTwice(parseInstructions(ex4))\n",
    "print(manhDistance(x4, y4))"
   ]
  },
  {
   "cell_type": "code",
   "execution_count": 31,
   "id": "21d311f1",
   "metadata": {},
   "outputs": [
    {
     "name": "stdout",
     "output_type": "stream",
     "text": [
      "113\n"
     ]
    }
   ],
   "source": [
    "# finding the solution\n",
    "x, y = firstVisitTwice(parseInstructions(content))\n",
    "print(manhDistance(x, y))"
   ]
  }
 ],
 "metadata": {
  "kernelspec": {
   "display_name": "Python 3.9.12 ('base')",
   "language": "python",
   "name": "python3"
  },
  "language_info": {
   "codemirror_mode": {
    "name": "ipython",
    "version": 3
   },
   "file_extension": ".py",
   "mimetype": "text/x-python",
   "name": "python",
   "nbconvert_exporter": "python",
   "pygments_lexer": "ipython3",
   "version": "3.9.12"
  },
  "vscode": {
   "interpreter": {
    "hash": "26b41e701b9231918f8329cfe003d300e3582e92b2efa9bd361dfdb186f62974"
   }
  }
 },
 "nbformat": 4,
 "nbformat_minor": 5
}
