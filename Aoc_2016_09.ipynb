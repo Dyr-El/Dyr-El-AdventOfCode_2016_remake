{
 "cells": [
  {
   "cell_type": "markdown",
   "id": "0f863bc7",
   "metadata": {},
   "source": [
    "# Day 2016-09: _template-title_"
   ]
  },
  {
   "cell_type": "code",
   "execution_count": null,
   "id": "e7ba6dbf",
   "metadata": {},
   "outputs": [],
   "source": [
    "year = 2016\n",
    "day  = 9"
   ]
  },
  {
   "cell_type": "code",
   "execution_count": null,
   "id": "93f010b0",
   "metadata": {},
   "outputs": [],
   "source": [
    "from local_settings import load_input\n",
    "content = load_input(year, day)\n",
    "print(f\"[{content[:100]}...{content[-100:]}]\")"
   ]
  },
  {
   "cell_type": "markdown",
   "id": "ee4d99ce",
   "metadata": {},
   "source": [
    "# Part 1"
   ]
  },
  {
   "cell_type": "code",
   "execution_count": null,
   "id": "6a7fb3c6",
   "metadata": {},
   "outputs": [],
   "source": [
    "# definitions for first part of problem solution\n",
    "def parseInput(s):\n",
    "    i, s = 0, s.strip()\n",
    "    sm = 0\n",
    "    while i < len(s):\n",
    "        c = s[i]\n",
    "        if c == '(':\n",
    "            stop = s.index(\")\", i + 1)\n",
    "            expr = s[i + 1: stop]\n",
    "            size, times = map(int, expr.split(\"x\"))\n",
    "            last = stop + 1 + size\n",
    "            last = min(last, len(s))\n",
    "            sm +=  size * times\n",
    "            i = last\n",
    "        else:\n",
    "            i += 1\n",
    "            sm += 1\n",
    "    return sm\n"
   ]
  },
  {
   "cell_type": "markdown",
   "id": "e749ac16",
   "metadata": {},
   "source": [
    "## Examples:\n",
    "```\n",
    "ADVENT contains no markers and decompresses to itself with no changes, resulting in a decompressed length of 6.\n",
    "A(1x5)BC repeats only the B a total of 5 times, becoming ABBBBBC for a decompressed length of 7.\n",
    "(3x3)XYZ becomes XYZXYZXYZ for a decompressed length of 9.\n",
    "A(2x2)BCD(2x2)EFG doubles the BC and EF, becoming ABCBCDEFEFG for a decompressed length of 11.\n",
    "(6x1)(1x3)A simply becomes (1x3)A - the (1x3) looks like a marker, but because it's within a data section of another marker, it is not treated any differently from the A that comes after it. It has a decompressed length of 6.\n",
    "X(8x2)(3x3)ABCY becomes X(3x3)ABC(3x3)ABCY (for a decompressed length of 18), because the decompressed data from the (8x2) marker (the (3x3)ABC) is skipped and not processed further.\n",
    "```"
   ]
  },
  {
   "cell_type": "code",
   "execution_count": null,
   "id": "296dd223",
   "metadata": {},
   "outputs": [],
   "source": [
    "# testing the examples\n",
    "print(parseInput(\"ADVENT\"))\n",
    "print(parseInput(\"A(1x5)BC\"))\n",
    "print(parseInput(\"(3x3)XYZ\"))\n",
    "print(parseInput(\"A(2x2)BCD(2x2)EFG\"))\n",
    "print(parseInput(\"(6x1)(1x3)A\"))\n",
    "print(parseInput(\"X(8x2)(3x3)ABCY\"))"
   ]
  },
  {
   "cell_type": "code",
   "execution_count": null,
   "id": "5d07d6f0",
   "metadata": {},
   "outputs": [],
   "source": [
    "# finding the solution\n",
    "print(parseInput(content))"
   ]
  },
  {
   "cell_type": "markdown",
   "id": "63f34142",
   "metadata": {},
   "source": [
    "# Part 2"
   ]
  },
  {
   "cell_type": "code",
   "execution_count": null,
   "id": "3dd19ccf",
   "metadata": {},
   "outputs": [],
   "source": [
    "# definitions for second part of a problem solution\n",
    "def parseInput2(s):\n",
    "    i = 0\n",
    "    s = s.strip()\n",
    "    sm = 0\n",
    "    while i < len(s):\n",
    "        c = s[i]\n",
    "        if c == '(':\n",
    "            stop = s.index(\")\", i + 1)\n",
    "            expr = s[i + 1: stop]\n",
    "            size, times = map(int, expr.split(\"x\"))\n",
    "            last = stop + 1 + size\n",
    "            last = min(last, len(s))\n",
    "            sm += times * parseInput2(s[stop + 1: stop + 1 + size])\n",
    "            i = last\n",
    "        else:\n",
    "            sm += 1\n",
    "            i += 1\n",
    "    return sm"
   ]
  },
  {
   "cell_type": "markdown",
   "id": "380d3358",
   "metadata": {},
   "source": [
    "## Examples:\n",
    "```\n",
    "(3x3)XYZ still becomes XYZXYZXYZ, as the decompressed section contains no markers.\n",
    "X(8x2)(3x3)ABCY becomes XABCABCABCABCABCABCY, because the decompressed data from the (8x2) marker is then further decompressed, thus triggering the (3x3) marker twice for a total of six ABC sequences.\n",
    "(27x12)(20x12)(13x14)(7x10)(1x12)A decompresses into a string of A repeated 241920 times.\n",
    "(25x3)(3x3)ABC(2x3)XY(5x2)PQRSTX(18x9)(3x2)TWO(5x7)SEVEN becomes 445 characters long.\n",
    "```"
   ]
  },
  {
   "cell_type": "code",
   "execution_count": null,
   "id": "f9dcf531",
   "metadata": {},
   "outputs": [],
   "source": [
    "# testing the examples\n",
    "print(parseInput2(\"(3x3)XYZ\"))\n",
    "print(parseInput2(\"X(8x2)(3x3)ABCY\"))\n",
    "print(parseInput2(\"(27x12)(20x12)(13x14)(7x10)(1x12)A\"))\n",
    "print(parseInput2(\"(25x3)(3x3)ABC(2x3)XY(5x2)PQRSTX(18x9)(3x2)TWO(5x7)SEVEN\"))"
   ]
  },
  {
   "cell_type": "code",
   "execution_count": null,
   "id": "21d311f1",
   "metadata": {},
   "outputs": [],
   "source": [
    "# finding the solution\n",
    "print(parseInput2(content))"
   ]
  }
 ],
 "metadata": {
  "kernelspec": {
   "display_name": "Python 3.9.12 ('base')",
   "language": "python",
   "name": "python3"
  },
  "language_info": {
   "codemirror_mode": {
    "name": "ipython",
    "version": 3
   },
   "file_extension": ".py",
   "mimetype": "text/x-python",
   "name": "python",
   "nbconvert_exporter": "python",
   "pygments_lexer": "ipython3",
   "version": "3.9.12"
  },
  "vscode": {
   "interpreter": {
    "hash": "26b41e701b9231918f8329cfe003d300e3582e92b2efa9bd361dfdb186f62974"
   }
  }
 },
 "nbformat": 4,
 "nbformat_minor": 5
}
