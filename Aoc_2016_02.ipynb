{
 "cells": [
  {
   "cell_type": "markdown",
   "id": "0f863bc7",
   "metadata": {},
   "source": [
    "# Day 2016-02: Bathroom Security"
   ]
  },
  {
   "cell_type": "code",
   "execution_count": null,
   "id": "e7ba6dbf",
   "metadata": {},
   "outputs": [],
   "source": [
    "year = 2016\n",
    "day  = 2"
   ]
  },
  {
   "cell_type": "code",
   "execution_count": null,
   "id": "93f010b0",
   "metadata": {},
   "outputs": [],
   "source": [
    "from local_settings import load_input\n",
    "content = load_input(year, day)\n",
    "print(f\"[{content[:100]}...]\")"
   ]
  },
  {
   "cell_type": "markdown",
   "id": "ee4d99ce",
   "metadata": {},
   "source": [
    "# Part 1"
   ]
  },
  {
   "cell_type": "code",
   "execution_count": null,
   "id": "6a7fb3c6",
   "metadata": {},
   "outputs": [],
   "source": [
    "# definitions for first part of problem solution\n",
    "def parseInput(s):\n",
    "    for line in s.splitlines():\n",
    "        yield line\n",
    "\n",
    "buttonSet1 = {(-1, -1):\"1\", (0, -1):\"2\", (1, -1):\"3\", \n",
    "              (-1,  0):\"4\", (0,  0):'5', (1,  0):'6', \n",
    "              (-1,  1):'7', (0,  1):\"8\", (1,  1):'9',}\n",
    "\n",
    "buttonSet2 = {                           (0, -2):\"1\", \n",
    "                           (-1, -1):\"2\", (0, -1):\"3\", (1, -1):\"4\", \n",
    "              (-2, 0):\"5\", (-1,  0):\"6\", (0,  0):\"7\", (1,  0):\"8\", (2, 0):\"9\", \n",
    "                           (-1,  1):'A', (0,  1):'B', (1,  1):'C', \n",
    "                                         (0,  2):'D'}\n",
    "\n",
    "def walk(x, y, line, buttons):\n",
    "    for c in line:\n",
    "        x0, y0 = x, y\n",
    "        if c == \"U\":\n",
    "            y -= 1\n",
    "        elif c == \"D\":\n",
    "            y += 1\n",
    "        if c == \"L\":\n",
    "            x -= 1\n",
    "        elif c == \"R\":\n",
    "            x += 1\n",
    "        if (x, y) not in buttons:\n",
    "            x, y = x0, y0\n",
    "    return x, y\n",
    "\n",
    "def calcCode(lines, buttons):\n",
    "    for (x, y), c in buttons.items():\n",
    "        if c == \"5\":\n",
    "            break\n",
    "    l = list()\n",
    "    for line in lines:\n",
    "        x, y = walk(x, y, line, buttons)\n",
    "        l.append(buttons[(x, y)])\n",
    "    return ''.join(l)"
   ]
  },
  {
   "cell_type": "markdown",
   "id": "e749ac16",
   "metadata": {},
   "source": [
    "## Examples:\n",
    "```\n",
    "ULL\n",
    "RRDDD\n",
    "LURDL\n",
    "UUUUD\n",
    "```"
   ]
  },
  {
   "cell_type": "code",
   "execution_count": null,
   "id": "296dd223",
   "metadata": {},
   "outputs": [],
   "source": [
    "# testing the examples\n",
    "ex1 = \"\"\"ULL\n",
    "RRDDD\n",
    "LURDL\n",
    "UUUUD\"\"\"\n",
    "print(calcCode(parseInput(ex1), buttonSet1))"
   ]
  },
  {
   "cell_type": "code",
   "execution_count": null,
   "id": "5d07d6f0",
   "metadata": {},
   "outputs": [],
   "source": [
    "# finding the solution\n",
    "print(calcCode(parseInput(content), buttonSet1))"
   ]
  },
  {
   "cell_type": "markdown",
   "id": "63f34142",
   "metadata": {},
   "source": [
    "# Part 2"
   ]
  },
  {
   "cell_type": "code",
   "execution_count": null,
   "id": "3dd19ccf",
   "metadata": {},
   "outputs": [],
   "source": [
    "# definitions for second part of a problem solution"
   ]
  },
  {
   "cell_type": "markdown",
   "id": "380d3358",
   "metadata": {},
   "source": [
    "## Examples:\n",
    "```\n",
    "```"
   ]
  },
  {
   "cell_type": "code",
   "execution_count": null,
   "id": "f9dcf531",
   "metadata": {},
   "outputs": [],
   "source": [
    "# testing the examples\n",
    "print(calcCode(parseInput(ex1), buttonSet2))"
   ]
  },
  {
   "cell_type": "code",
   "execution_count": null,
   "id": "21d311f1",
   "metadata": {},
   "outputs": [],
   "source": [
    "# finding the solution\n",
    "print(calcCode(parseInput(content), buttonSet2))"
   ]
  }
 ],
 "metadata": {
  "kernelspec": {
   "display_name": "Python 3.9.12 ('base')",
   "language": "python",
   "name": "python3"
  },
  "language_info": {
   "codemirror_mode": {
    "name": "ipython",
    "version": 3
   },
   "file_extension": ".py",
   "mimetype": "text/x-python",
   "name": "python",
   "nbconvert_exporter": "python",
   "pygments_lexer": "ipython3",
   "version": "3.9.12"
  },
  "vscode": {
   "interpreter": {
    "hash": "26b41e701b9231918f8329cfe003d300e3582e92b2efa9bd361dfdb186f62974"
   }
  }
 },
 "nbformat": 4,
 "nbformat_minor": 5
}
