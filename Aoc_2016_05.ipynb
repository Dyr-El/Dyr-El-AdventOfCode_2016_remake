{
 "cells": [
  {
   "cell_type": "markdown",
   "id": "0f863bc7",
   "metadata": {},
   "source": [
    "# Day 2016-05: How About a Nice Game of Chess?"
   ]
  },
  {
   "cell_type": "code",
   "execution_count": null,
   "id": "e7ba6dbf",
   "metadata": {},
   "outputs": [],
   "source": [
    "year = 2016\n",
    "day  = 5"
   ]
  },
  {
   "cell_type": "code",
   "execution_count": null,
   "id": "93f010b0",
   "metadata": {},
   "outputs": [],
   "source": [
    "from local_settings import load_input\n",
    "content = load_input(year, day)\n",
    "print(f\"[{content[:100]}...]\")"
   ]
  },
  {
   "cell_type": "markdown",
   "id": "ee4d99ce",
   "metadata": {},
   "source": [
    "# Part 1"
   ]
  },
  {
   "cell_type": "code",
   "execution_count": null,
   "id": "6a7fb3c6",
   "metadata": {},
   "outputs": [],
   "source": [
    "# definitions for first part of problem solution\n",
    "from itertools import count\n",
    "from hashlib import md5\n",
    "\n",
    "def findNextCharacter(key, start=0, noOfC=1):\n",
    "    key = key.strip()\n",
    "    for i in count(start=start):\n",
    "        input = key + str(i)\n",
    "        digest = md5()\n",
    "        digest.update(input.encode('utf-8'))\n",
    "        digest = digest.hexdigest()\n",
    "        if digest[:5] == \"00000\":\n",
    "            yield digest[5:5 + noOfC]\n",
    "\n",
    "def generateCodeWord1(key, noOfCharacters):\n",
    "    l = list()\n",
    "    for c, i in zip(findNextCharacter(key), range(noOfCharacters)):\n",
    "        l.append(c)\n",
    "        yield ''.join(l)"
   ]
  },
  {
   "cell_type": "markdown",
   "id": "e749ac16",
   "metadata": {},
   "source": [
    "## Examples:\n",
    "```\n",
    "abc\n",
    "```"
   ]
  },
  {
   "cell_type": "code",
   "execution_count": null,
   "id": "296dd223",
   "metadata": {},
   "outputs": [],
   "source": [
    "# testing the examples\n",
    "for cw in generateCodeWord1(\"abc\", 3):\n",
    "    print(cw)"
   ]
  },
  {
   "cell_type": "code",
   "execution_count": null,
   "id": "5d07d6f0",
   "metadata": {},
   "outputs": [],
   "source": [
    "# finding the solution\n",
    "for cw in generateCodeWord1(content, 8):\n",
    "    print(cw)"
   ]
  },
  {
   "cell_type": "markdown",
   "id": "63f34142",
   "metadata": {},
   "source": [
    "# Part 2"
   ]
  },
  {
   "cell_type": "code",
   "execution_count": null,
   "id": "3dd19ccf",
   "metadata": {},
   "outputs": [],
   "source": [
    "# definitions for second part of a problem solution\n",
    "def generateCodeWord2(key, noOfChars):\n",
    "    d = [None] * noOfChars\n",
    "    gen = findNextCharacter(key, noOfC=2)\n",
    "    while any((c is None for c in d)):\n",
    "        pos, char = next(gen)\n",
    "        try:\n",
    "            pos = int(pos)\n",
    "            if pos < 8 and d[pos] is None:\n",
    "                d[pos] = char\n",
    "                s = \"\"\n",
    "                for j in range(8):\n",
    "                    if d[j] is None:\n",
    "                        s += '-'\n",
    "                    else:\n",
    "                        s += str(d[j])\n",
    "                yield s\n",
    "        except ValueError:\n",
    "            pass"
   ]
  },
  {
   "cell_type": "markdown",
   "id": "380d3358",
   "metadata": {},
   "source": [
    "## Examples:\n",
    "```\n",
    "```"
   ]
  },
  {
   "cell_type": "code",
   "execution_count": null,
   "id": "f9dcf531",
   "metadata": {},
   "outputs": [],
   "source": [
    "# testing the examples\n",
    "for cw in generateCodeWord2('abc', 8):\n",
    "    print(cw)"
   ]
  },
  {
   "cell_type": "code",
   "execution_count": null,
   "id": "21d311f1",
   "metadata": {},
   "outputs": [],
   "source": [
    "# finding the solution\n",
    "for cw in generateCodeWord2(content, 8):\n",
    "    print(cw)"
   ]
  }
 ],
 "metadata": {
  "kernelspec": {
   "display_name": "Python 3.9.12 ('base')",
   "language": "python",
   "name": "python3"
  },
  "language_info": {
   "codemirror_mode": {
    "name": "ipython",
    "version": 3
   },
   "file_extension": ".py",
   "mimetype": "text/x-python",
   "name": "python",
   "nbconvert_exporter": "python",
   "pygments_lexer": "ipython3",
   "version": "3.9.12"
  },
  "vscode": {
   "interpreter": {
    "hash": "26b41e701b9231918f8329cfe003d300e3582e92b2efa9bd361dfdb186f62974"
   }
  }
 },
 "nbformat": 4,
 "nbformat_minor": 5
}
