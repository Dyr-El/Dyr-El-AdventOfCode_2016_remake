{
 "cells": [
  {
   "cell_type": "markdown",
   "id": "0f863bc7",
   "metadata": {},
   "source": [
    "# Day 2016-07: _template-title_"
   ]
  },
  {
   "cell_type": "code",
   "execution_count": null,
   "id": "e7ba6dbf",
   "metadata": {},
   "outputs": [],
   "source": [
    "year = 2016\n",
    "day  = 7"
   ]
  },
  {
   "cell_type": "code",
   "execution_count": null,
   "id": "93f010b0",
   "metadata": {},
   "outputs": [],
   "source": [
    "from local_settings import load_input\n",
    "content = load_input(year, day)\n",
    "print(f\"[{content[:100]}...]\")"
   ]
  },
  {
   "cell_type": "markdown",
   "id": "ee4d99ce",
   "metadata": {},
   "source": [
    "# Part 1"
   ]
  },
  {
   "cell_type": "code",
   "execution_count": null,
   "id": "6a7fb3c6",
   "metadata": {},
   "outputs": [],
   "source": [
    "# definitions for first part of problem solution\n",
    "def parseInput(s):\n",
    "    for line in s.splitlines():\n",
    "        l = [[False, \"\"]]\n",
    "        inside = False\n",
    "        for c in line:\n",
    "            if c == '[':\n",
    "                l.append([True, \"\"])\n",
    "            elif c == ']':\n",
    "                l.append([False, \"\"])\n",
    "            else:\n",
    "                l[-1][-1] += c\n",
    "        yield l\n",
    "\n",
    "def findAbba(s):\n",
    "    return any(((a == d) and (b == c) and (a != b) for a, b, c, d in zip(s, s[1:], s[2:], s[3:])))\n",
    "\n",
    "def checkTLS(l):\n",
    "    foundAbba = False\n",
    "    for inside, part in l:\n",
    "        if findAbba(part):\n",
    "            if inside:\n",
    "                return False\n",
    "            else:\n",
    "                foundAbba = True\n",
    "    return foundAbba"
   ]
  },
  {
   "cell_type": "markdown",
   "id": "e749ac16",
   "metadata": {},
   "source": [
    "## Examples:\n",
    "```\n",
    "abba[mnop]qrst supports TLS (abba outside square brackets).\n",
    "abcd[bddb]xyyx does not support TLS (bddb is within square brackets, even though xyyx is outside square brackets).\n",
    "aaaa[qwer]tyui does not support TLS (aaaa is invalid; the interior characters must be different).\n",
    "ioxxoj[asdfgh]zxcvbn supports TLS (oxxo is outside square brackets, even though it's within a larger string).\n",
    "```"
   ]
  },
  {
   "cell_type": "code",
   "execution_count": null,
   "id": "296dd223",
   "metadata": {},
   "outputs": [],
   "source": [
    "# testing the examples\n",
    "ex1 = \"\"\"abba[mnop]qrst\n",
    "abcd[bddb]xyyx\n",
    "aaaa[qwer]tyui\n",
    "ioxxoj[asdfgh]zxcvbn\"\"\"\n",
    "for l in parseInput(ex1):\n",
    "    print(l, checkTLS(l))"
   ]
  },
  {
   "cell_type": "code",
   "execution_count": null,
   "id": "5d07d6f0",
   "metadata": {},
   "outputs": [],
   "source": [
    "# finding the solution\n",
    "print(sum((checkTLS(l) for l in parseInput(content))))"
   ]
  },
  {
   "cell_type": "markdown",
   "id": "63f34142",
   "metadata": {},
   "source": [
    "# Part 2"
   ]
  },
  {
   "cell_type": "code",
   "execution_count": null,
   "id": "3dd19ccf",
   "metadata": {},
   "outputs": [],
   "source": [
    "# definitions for second part of a problem solution\n",
    "def findABAs(s):\n",
    "    return {(a, b) for a, b, c in zip(s, s[1:], s[2:]) if a != b and a == c}\n",
    "\n",
    "def findBABs(s):\n",
    "    return {(b, a) for a, b, c in zip(s, s[1:], s[2:]) if a != b and a == c}\n",
    "\n",
    "def findAllABAs(l):\n",
    "    tot = set()\n",
    "    for inside, s in l:\n",
    "        if inside:\n",
    "            continue\n",
    "        tot |= findABAs(s)\n",
    "    return tot\n",
    "\n",
    "def findAllBABs(l):\n",
    "    tot = set()\n",
    "    for inside, s in l:\n",
    "        if not inside:\n",
    "            continue\n",
    "        tot |= findBABs(s)\n",
    "    return tot\n",
    "\n",
    "def supportSSL(l):\n",
    "    return len(findAllABAs(l) & findAllBABs(l)) > 0"
   ]
  },
  {
   "cell_type": "markdown",
   "id": "380d3358",
   "metadata": {},
   "source": [
    "## Examples:\n",
    "```\n",
    "aba[bab]xyz supports SSL (aba outside square brackets with corresponding bab within square brackets).\n",
    "xyx[xyx]xyx does not support SSL (xyx, but no corresponding yxy).\n",
    "aaa[kek]eke supports SSL (eke in supernet with corresponding kek in hypernet; the aaa sequence is not related, because the interior character must be different).\n",
    "zazbz[bzb]cdb supports SSL (zaz has no corresponding aza, but zbz has a corresponding bzb, even though zaz and zbz overlap).\n",
    "```"
   ]
  },
  {
   "cell_type": "code",
   "execution_count": null,
   "id": "f9dcf531",
   "metadata": {},
   "outputs": [],
   "source": [
    "# testing the examples\n",
    "ex2 = \"\"\"aba[bab]xyz\n",
    "xyx[xyx]xyx\n",
    "aaa[kek]eke\n",
    "zazbz[bzb]cdb\"\"\"\n",
    "for l in parseInput(ex2):\n",
    "    print(l, supportSSL(l))"
   ]
  },
  {
   "cell_type": "code",
   "execution_count": null,
   "id": "21d311f1",
   "metadata": {},
   "outputs": [],
   "source": [
    "# finding the solution\n",
    "print(sum((supportSSL(l) for l in parseInput(content))))"
   ]
  }
 ],
 "metadata": {
  "kernelspec": {
   "display_name": "Python 3.9.12 ('base')",
   "language": "python",
   "name": "python3"
  },
  "language_info": {
   "codemirror_mode": {
    "name": "ipython",
    "version": 3
   },
   "file_extension": ".py",
   "mimetype": "text/x-python",
   "name": "python",
   "nbconvert_exporter": "python",
   "pygments_lexer": "ipython3",
   "version": "3.9.12"
  },
  "vscode": {
   "interpreter": {
    "hash": "26b41e701b9231918f8329cfe003d300e3582e92b2efa9bd361dfdb186f62974"
   }
  }
 },
 "nbformat": 4,
 "nbformat_minor": 5
}
